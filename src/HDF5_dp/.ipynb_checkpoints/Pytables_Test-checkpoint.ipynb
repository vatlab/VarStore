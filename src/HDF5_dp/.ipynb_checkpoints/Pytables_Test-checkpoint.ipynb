{
 "cells": [
  {
   "cell_type": "code",
   "execution_count": 1,
   "metadata": {
    "collapsed": true
   },
   "outputs": [],
   "source": [
    "from scipy.sparse import csr_matrix,rand\n",
    "import tables as tb\n",
    "import numpy as np\n",
    "import pandas as pd"
   ]
  },
  {
   "cell_type": "code",
   "execution_count": 2,
   "metadata": {
    "collapsed": false
   },
   "outputs": [],
   "source": [
    "f=tb.open_file(\"testchr22.h5\",'w')\n",
    "filters = tb.Filters(complevel=9, complib='blosc')\n",
    "out_data = f.create_earray(f.root, 'data',tb.Float32Atom() ,shape=(0,), filters=filters)\n",
    "out_ri = f.create_earray(f.root, 'ri', tb.Float32Atom(),shape=(0,), filters=filters)\n",
    "out_ci = f.create_earray(f.root, 'ci', tb.Float32Atom(), shape=(0,), filters=filters)"
   ]
  },
  {
   "cell_type": "code",
   "execution_count": null,
   "metadata": {
    "collapsed": false
   },
   "outputs": [
    {
     "name": "stdout",
     "output_type": "stream",
     "text": [
      "done\n"
     ]
    }
   ],
   "source": [
    "for chunk in pd.read_table(\"/Users/jma7/Development/hail/test/genotype.tsv\",index_col=0,chunksize=1000):\n",
    "    print(\"done\")\n",
    "#     print(chunk)\n",
    "    for index,line in chunk.iterrows():\n",
    "         ci=line.values.nonzero()\n",
    "#          print(type(line),type(line.values))\n",
    "         y = line.values.astype(np.int)\n",
    "         res = np.trim_zeros(y)\n",
    "#          print(type(y))\n",
    "#          print(type(res))\n",
    "         out_data.append(res)\n",
    "#          out_ri.append(index)\n",
    "         out_ci.append(ci[0])"
   ]
  },
  {
   "cell_type": "code",
   "execution_count": null,
   "metadata": {
    "collapsed": true
   },
   "outputs": [],
   "source": []
  }
 ],
 "metadata": {
  "anaconda-cloud": {},
  "kernelspec": {
   "display_name": "Python [conda root]",
   "language": "python",
   "name": "conda-root-py"
  },
  "language_info": {
   "codemirror_mode": {
    "name": "ipython",
    "version": 3
   },
   "file_extension": ".py",
   "mimetype": "text/x-python",
   "name": "python",
   "nbconvert_exporter": "python",
   "pygments_lexer": "ipython3",
   "version": "3.5.2"
  },
  "toc": {
   "colors": {
    "hover_highlight": "#DAA520",
    "running_highlight": "#FF0000",
    "selected_highlight": "#FFD700"
   },
   "moveMenuLeft": true,
   "nav_menu": {
    "height": "12px",
    "width": "252px"
   },
   "navigate_menu": true,
   "number_sections": true,
   "sideBar": true,
   "threshold": 4,
   "toc_cell": false,
   "toc_section_display": "block",
   "toc_window_display": false
  }
 },
 "nbformat": 4,
 "nbformat_minor": 1
}
