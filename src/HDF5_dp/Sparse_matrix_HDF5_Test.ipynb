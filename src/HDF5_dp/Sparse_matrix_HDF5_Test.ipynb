{
 "cells": [
  {
   "cell_type": "code",
   "execution_count": 14,
   "metadata": {
    "collapsed": true
   },
   "outputs": [],
   "source": [
    "from scipy.sparse import csr_matrix,rand,coo_matrix\n",
    "import tables as tb\n",
    "import numpy as np\n",
    "import pandas as pd\n",
    "from numpy import array\n",
    "import time"
   ]
  },
  {
   "cell_type": "code",
   "execution_count": 113,
   "metadata": {
    "collapsed": true
   },
   "outputs": [],
   "source": [
    "file=pd.read_table(\"/Users/jma7/Development/hail/test/genotypeChr22.tsv\",index_col=0)"
   ]
  },
  {
   "cell_type": "code",
   "execution_count": 114,
   "metadata": {
    "collapsed": true
   },
   "outputs": [],
   "source": [
    "sparsefile=file.to_sparse(fill_value=0)"
   ]
  },
  {
   "cell_type": "code",
   "execution_count": 2,
   "metadata": {
    "collapsed": false
   },
   "outputs": [],
   "source": [
    "def sparse_df_to_array(df):\n",
    "    num_rows = df.shape[0]   \n",
    "\n",
    "    data = []\n",
    "    row = []\n",
    "    col = []\n",
    "\n",
    "    for i, col_name in enumerate(df.columns):\n",
    "        if isinstance(df[col_name], pd.SparseSeries):\n",
    "            column_index = df[col_name].sp_index\n",
    "            if isinstance(column_index, pd._sparse.BlockIndex):\n",
    "                column_index = column_index.to_int_index()\n",
    "\n",
    "            ix = column_index.indices\n",
    "            data.append(df[col_name].sp_values)\n",
    "            row.append(ix)\n",
    "            col.append(len(df[col_name].sp_values) * [i])\n",
    "        else:\n",
    "            data.append(df[col_name].values)\n",
    "            row.append(np.array(range(0, num_rows)))\n",
    "            col.append(np.array(num_rows * [i]))\n",
    "\n",
    "    data_f = np.concatenate(data)\n",
    "    row_f = np.concatenate(row)\n",
    "    col_f = np.concatenate(col)\n",
    "\n",
    "    arr = coo_matrix((data_f, (row_f, col_f)), df.shape, dtype=np.float64)\n",
    "    return arr.tocsr()"
   ]
  },
  {
   "cell_type": "code",
   "execution_count": 8,
   "metadata": {
    "collapsed": false
   },
   "outputs": [],
   "source": [
    "mat=csr_matrix(file.values)"
   ]
  },
  {
   "cell_type": "code",
   "execution_count": 36,
   "metadata": {
    "collapsed": false
   },
   "outputs": [],
   "source": [
    "mat=csr_matrix(file.as_matrix())"
   ]
  },
  {
   "cell_type": "code",
   "execution_count": 36,
   "metadata": {
    "collapsed": false
   },
   "outputs": [],
   "source": [
    "def store_sparse_dataframe(data, name, store='storeChr22.h5'):\n",
    "    m=csr_matrix(data.as_matrix())\n",
    "    rownames=data.index.values\n",
    "    colnames=data.columns.values\n",
    "    msg = \"This code only works for csr matrices\"\n",
    "    assert(m.__class__ == csr_matrix), msg\n",
    "    filters = tb.Filters(complevel=9, complib='blosc')\n",
    "    with tb.open_file(store,'a') as f:\n",
    "        for par in ('data', 'indices', 'indptr', 'shape'):\n",
    "            full_name = '%s_%s' % (name, par)\n",
    "            try:\n",
    "                n = getattr(f.root, full_name)\n",
    "                n._f_remove()\n",
    "            except AttributeError:\n",
    "                pass\n",
    "\n",
    "            arr = array(getattr(m, par))\n",
    "            atom = tb.Atom.from_dtype(arr.dtype)\n",
    "            ds = f.create_carray(f.root, full_name, atom, arr.shape,filters=filters)\n",
    "            print(f)\n",
    "            ds[:] = arr\n",
    "        ds = f.create_carray(f.root, name+\"_rownames\",  tb.StringAtom(itemsize=200), rownames.shape,filters=filters)\n",
    "        print(f)\n",
    "        ds[:] = rownames\n",
    "        ds = f.create_carray(f.root, name+\"_colnames\", tb.StringAtom(itemsize=100), colnames.shape,filters=filters)\n",
    "        print(f)\n",
    "        ds[:] = colnames\n",
    "        \n",
    "def binarySearchName(nameArray,name):\n",
    "    start=0\n",
    "    end=len(nameArray)-1\n",
    "    found=False\n",
    "    mid=0\n",
    "    while (start<=end and not found):\n",
    "        mid=(end+start)//2\n",
    "        if (name==nameArray[mid]):\n",
    "            found=True\n",
    "        else:\n",
    "            if (name<nameArray[mid]):\n",
    "                end=mid-1\n",
    "            elif (name>nameArray[mid]):\n",
    "                start=mid+1\n",
    "    if not found:\n",
    "        mid=-1\n",
    "    return mid\n",
    "    \n",
    "        \n",
    "        \n",
    "def load_genotype_by_variantID_HDF5(name,ids, store='store.h5'):\n",
    "    start_time = time.time()\n",
    "    with tb.open_file(store) as f:\n",
    "        pars = []\n",
    "        for par in ('data', 'indices', 'indptr', 'shape',\"rownames\",\"colnames\"):\n",
    "            pars.append(getattr(f.root, '%s_%s' % (name, par)).read())\n",
    "    m = csr_matrix(tuple(pars[:3]), shape=pars[3])\n",
    "    rownames=pars[4].astype('str')\n",
    "    colnames=pars[5].astype('str')\n",
    "    ids=rownames[:10000]\n",
    "    print(\"--- %s seconds ---\" % (time.time() - start_time))\n",
    "    start_time = time.time()\n",
    "    for id in ids:\n",
    "#         valindex=np.nonzero(rownames==id)[0][0]\n",
    "        valindex=binarySearchName(rownames,id)\n",
    "        value=m.getrow(valindex)\n",
    "        cols=value.indices\n",
    "        genotypes=value.data\n",
    "        for index,pos in enumerate(cols):\n",
    "            sampleName=colnames[pos]\n",
    "            value=genotypes[index]\n",
    "#             print(id,sampleName,value)\n",
    "    print(\"--- %s seconds ---\" % (time.time() - start_time))\n",
    "    return\n",
    "\n",
    "def load_genotype_by_ids_samples_HDF5(name,ids,samples, store='store.h5'):\n",
    "    with tb.open_file(store) as f:\n",
    "        pars = []\n",
    "        for par in ('data', 'indices', 'indptr', 'shape',\"rownames\",\"colnames\"):\n",
    "            pars.append(getattr(f.root, '%s_%s' % (name, par)).read())\n",
    "    m = csr_matrix(tuple(pars[:3]), shape=pars[3])\n",
    "    rownames=pars[4].astype('str')\n",
    "    colnames=pars[5].astype('str')\n",
    "    ids=rownames[:10000]\n",
    "    samples=colnames[:20]\n",
    "    genotypes=m.data\n",
    "    start_time = time.time()\n",
    "    for id in ids:\n",
    "        idIndex=binarySearchName(rownames,id)\n",
    "        if idIndex!=-1:\n",
    "            value=m.getrow(idIndex)\n",
    "            cols=value.indices\n",
    "            genotypes=value.data\n",
    "#             print(cols)\n",
    "            for sample in samples:\n",
    "                sampleIndex=binarySearchName(colnames,sample)\n",
    "                if sampleIndex!=-1:\n",
    "                    samplePos=binarySearchName(cols,sampleIndex)\n",
    "                    if samplePos!=-1:\n",
    "                        genotype=genotypes[samplePos]\n",
    "#                         print(id,sample,genotype)\n",
    "    print(\"--- %s seconds ---\" % (time.time() - start_time))\n",
    "    return\n",
    "\n",
    "def load_sparse_dataframe(name, store='store.h5'):\n",
    "    with tb.open_file(store) as f:\n",
    "        pars = []\n",
    "        for par in ('data', 'indices', 'indptr', 'shape',\"rownames\",\"colnames\"):\n",
    "            pars.append(getattr(f.root, '%s_%s' % (name, par)).read())\n",
    "    m = csr_matrix(tuple(pars[:3]), shape=pars[3])\n",
    "    return m\n",
    "        "
   ]
  },
  {
   "cell_type": "code",
   "execution_count": null,
   "metadata": {
    "collapsed": true
   },
   "outputs": [],
   "source": [
    "store_sparse_dataframe(file,\"dataTable\")"
   ]
  },
  {
   "cell_type": "code",
   "execution_count": 13,
   "metadata": {
    "collapsed": true
   },
   "outputs": [],
   "source": [
    "def store_sparse_mat(m, name, store='store.h5'):\n",
    "    msg = \"This code only works for csr matrices\"\n",
    "    assert(m.__class__ == csr_matrix), msg\n",
    "    filters = tb.Filters(complevel=9, complib='blosc')\n",
    "    with tb.open_file(store,'a') as f:\n",
    "        for par in ('data', 'indices', 'indptr', 'shape'):\n",
    "            full_name = '%s_%s' % (name, par)\n",
    "            try:\n",
    "                n = getattr(f.root, full_name)\n",
    "                n._f_remove()\n",
    "            except AttributeError:\n",
    "                pass\n",
    "\n",
    "            arr = array(getattr(m, par))\n",
    "            atom = tb.Atom.from_dtype(arr.dtype)\n",
    "            ds = f.create_carray(f.root, full_name, atom, arr.shape,filters=filters)\n",
    "            print(f)\n",
    "            ds[:] = arr\n",
    "\n",
    "def load_sparse_mat(name, store='store.h5'):\n",
    "    with tb.open_file(store) as f:\n",
    "        pars = []\n",
    "        for par in ('data', 'indices', 'indptr', 'shape'):\n",
    "            pars.append(getattr(f.root, '%s_%s' % (name, par)).read())\n",
    "    m = csr_matrix(tuple(pars[:3]), shape=pars[3])\n",
    "    return m"
   ]
  },
  {
   "cell_type": "code",
   "execution_count": 4,
   "metadata": {
    "collapsed": true
   },
   "outputs": [],
   "source": [
    "ids=['chr22:g.16052080G>A',\"chr22:g.16063484G>A\",\"chr22:g.16202725C>A\",\"chr22:g.16235504_16235507del\"]\n",
    "samples=['HG00096',\"HG00102\",\"HG00728\",\"HG01577\"]"
   ]
  },
  {
   "cell_type": "code",
   "execution_count": 38,
   "metadata": {
    "collapsed": false
   },
   "outputs": [
    {
     "name": "stdout",
     "output_type": "stream",
     "text": [
      "--- 7.722084999084473 seconds ---\n"
     ]
    }
   ],
   "source": [
    "load_genotype_by_ids_samples_HDF5(\"dataTable\",ids,samples,store='store.h5')"
   ]
  },
  {
   "cell_type": "code",
   "execution_count": 116,
   "metadata": {
    "collapsed": false
   },
   "outputs": [
    {
     "data": {
      "text/plain": [
       "(1096485, 2504)"
      ]
     },
     "execution_count": 116,
     "metadata": {},
     "output_type": "execute_result"
    }
   ],
   "source": [
    "file.shape"
   ]
  },
  {
   "cell_type": "code",
   "execution_count": 21,
   "metadata": {
    "collapsed": false
   },
   "outputs": [
    {
     "name": "stdout",
     "output_type": "stream",
     "text": [
      "--- 4.073753118515015 seconds ---\n",
      "--- 2.465273141860962 seconds ---\n",
      "CPU times: user 4.45 s, sys: 1.36 s, total: 5.81 s\n",
      "Wall time: 6.72 s\n"
     ]
    }
   ],
   "source": [
    "%time load_genotype_by_variantID_HDF5(\"dataTable\",['chr22:g.16052080G>A',\"chr22:g.16063484G>A\",\"chr22:g.16202725C>A\",\"chr22:g.16235504_16235507del\"],store='storeChr22.h5')"
   ]
  },
  {
   "cell_type": "code",
   "execution_count": 39,
   "metadata": {
    "collapsed": true
   },
   "outputs": [],
   "source": [
    "matcheck=load_sparse_mat(\"table\")"
   ]
  },
  {
   "cell_type": "code",
   "execution_count": 40,
   "metadata": {
    "collapsed": true
   },
   "outputs": [],
   "source": [
    "filecheck=matcheck.toarray()"
   ]
  },
  {
   "cell_type": "code",
   "execution_count": null,
   "metadata": {
    "collapsed": true
   },
   "outputs": [],
   "source": [
    "loadDataFrame=load_sparse_dataframe(\"table\")\n"
   ]
  },
  {
   "cell_type": "code",
   "execution_count": 17,
   "metadata": {
    "collapsed": false
   },
   "outputs": [
    {
     "data": {
      "text/plain": [
       "numpy.ndarray"
      ]
     },
     "execution_count": 17,
     "metadata": {},
     "output_type": "execute_result"
    }
   ],
   "source": [
    "type(filecheck)"
   ]
  },
  {
   "cell_type": "code",
   "execution_count": 52,
   "metadata": {
    "collapsed": false
   },
   "outputs": [
    {
     "data": {
      "text/plain": [
       "array([  0,   1,  33,  70,  71,  72,  74,  79,  81,  82,  83,  85,  86,\n",
       "        87,  88, 125, 126, 164, 190, 196], dtype=int32)"
      ]
     },
     "execution_count": 52,
     "metadata": {},
     "output_type": "execute_result"
    }
   ],
   "source": [
    "matcheck.indptr[:20]"
   ]
  },
  {
   "cell_type": "code",
   "execution_count": null,
   "metadata": {
    "collapsed": true
   },
   "outputs": [],
   "source": []
  }
 ],
 "metadata": {
  "anaconda-cloud": {},
  "kernelspec": {
   "display_name": "Python [conda root]",
   "language": "python",
   "name": "conda-root-py"
  },
  "language_info": {
   "codemirror_mode": {
    "name": "ipython",
    "version": 3
   },
   "file_extension": ".py",
   "mimetype": "text/x-python",
   "name": "python",
   "nbconvert_exporter": "python",
   "pygments_lexer": "ipython3",
   "version": "3.5.2"
  },
  "toc": {
   "colors": {
    "hover_highlight": "#DAA520",
    "running_highlight": "#FF0000",
    "selected_highlight": "#FFD700"
   },
   "moveMenuLeft": true,
   "nav_menu": {
    "height": "12px",
    "width": "252px"
   },
   "navigate_menu": true,
   "number_sections": true,
   "sideBar": true,
   "threshold": 4,
   "toc_cell": false,
   "toc_section_display": "block",
   "toc_window_display": false
  }
 },
 "nbformat": 4,
 "nbformat_minor": 1
}
