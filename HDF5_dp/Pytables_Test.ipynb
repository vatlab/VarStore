{
 "cells": [
  {
   "cell_type": "code",
   "execution_count": 1,
   "metadata": {
    "collapsed": true
   },
   "outputs": [],
   "source": [
    "from scipy.sparse import csr_matrix,rand\n",
    "import tables as tb\n",
    "import numpy as np\n",
    "import pandas as pd"
   ]
  },
  {
   "cell_type": "code",
   "execution_count": 2,
   "metadata": {
    "collapsed": false
   },
   "outputs": [],
   "source": [
    "f=tb.open_file(\"testchr22.h5\",'w')\n",
    "filters = tb.Filters(complevel=9, complib='blosc')\n",
    "out_data = f.create_earray(f.root, 'data',tb.Float32Atom() ,shape=(0,), filters=filters)\n",
    "out_ri = f.create_earray(f.root, 'ri', tb.Float32Atom(),shape=(0,), filters=filters)\n",
    "out_ci = f.create_earray(f.root, 'ci', tb.StringAtom(itemsize=450), shape=(0,), filters=filters)"
   ]
  },
  {
   "cell_type": "code",
   "execution_count": 3,
   "metadata": {
    "collapsed": false
   },
   "outputs": [
    {
     "name": "stdout",
     "output_type": "stream",
     "text": [
      "done\n",
      "done\n",
      "done\n",
      "done\n",
      "done\n",
      "done\n",
      "done\n",
      "done\n",
      "done\n",
      "done\n",
      "done\n"
     ]
    }
   ],
   "source": [
    "for chunk in pd.read_table(\"/Users/jma7/Development/hail/test/genotype.tsv\",index_col=0,chunksize=1000):\n",
    "    print(\"done\")\n",
    "#     print(chunk)\n",
    "    for index,line in chunk.iterrows():\n",
    "         ci=line.values.nonzero()\n",
    "#          print(type(line),type(line.values))\n",
    "         y = line.values.astype(np.int)\n",
    "         res = list(filter(lambda a:a!=0,y))\n",
    "#          print(type(y))\n",
    "#          print(type(res))\n",
    "         out_data.append(res)\n",
    "#         out_ri.append(index)\n",
    "         out_ci.append(ci[0])"
   ]
  },
  {
   "cell_type": "code",
   "execution_count": 4,
   "metadata": {
    "collapsed": false
   },
   "outputs": [
    {
     "data": {
      "text/plain": [
       "File(filename=testchr22.h5, title='', mode='w', root_uep='/', filters=Filters(complevel=0, shuffle=False, fletcher32=False, least_significant_digit=None))\n",
       "/ (RootGroup) ''\n",
       "/ci (EArray(776397,), shuffle, blosc(9)) ''\n",
       "  atom := Float32Atom(shape=(), dflt=0.0)\n",
       "  maindim := 0\n",
       "  flavor := 'numpy'\n",
       "  byteorder := 'little'\n",
       "  chunkshape := (16384,)\n",
       "/data (EArray(776397,), shuffle, blosc(9)) ''\n",
       "  atom := Float32Atom(shape=(), dflt=0.0)\n",
       "  maindim := 0\n",
       "  flavor := 'numpy'\n",
       "  byteorder := 'little'\n",
       "  chunkshape := (16384,)\n",
       "/ri (EArray(0,), shuffle, blosc(9)) ''\n",
       "  atom := Float32Atom(shape=(), dflt=0.0)\n",
       "  maindim := 0\n",
       "  flavor := 'numpy'\n",
       "  byteorder := 'little'\n",
       "  chunkshape := (16384,)"
      ]
     },
     "execution_count": 4,
     "metadata": {},
     "output_type": "execute_result"
    }
   ],
   "source": [
    "f"
   ]
  },
  {
   "cell_type": "code",
   "execution_count": 7,
   "metadata": {
    "collapsed": false
   },
   "outputs": [],
   "source": [
    "store=pd.HDFStore(\"testchr22.h5\")"
   ]
  },
  {
   "cell_type": "code",
   "execution_count": 8,
   "metadata": {
    "collapsed": false
   },
   "outputs": [
    {
     "data": {
      "text/plain": [
       "<class 'pandas.io.pytables.HDFStore'>\n",
       "File path: testchr22.h5\n",
       "Empty"
      ]
     },
     "execution_count": 8,
     "metadata": {},
     "output_type": "execute_result"
    }
   ],
   "source": [
    "store"
   ]
  },
  {
   "cell_type": "code",
   "execution_count": 4,
   "metadata": {
    "collapsed": false
   },
   "outputs": [],
   "source": [
    "data=f.root.ci[:]"
   ]
  },
  {
   "cell_type": "code",
   "execution_count": 5,
   "metadata": {
    "collapsed": false
   },
   "outputs": [
    {
     "data": {
      "text/plain": [
       "array([b'1437', b'447', b'892', ..., b'1980', b'1989', b'2348'], \n",
       "      dtype='|S450')"
      ]
     },
     "execution_count": 5,
     "metadata": {},
     "output_type": "execute_result"
    }
   ],
   "source": [
    "data"
   ]
  },
  {
   "cell_type": "code",
   "execution_count": 7,
   "metadata": {
    "collapsed": false
   },
   "outputs": [
    {
     "data": {
      "text/plain": [
       "776397"
      ]
     },
     "execution_count": 7,
     "metadata": {},
     "output_type": "execute_result"
    }
   ],
   "source": [
    "len(data)"
   ]
  },
  {
   "cell_type": "code",
   "execution_count": 6,
   "metadata": {
    "collapsed": false
   },
   "outputs": [
    {
     "data": {
      "text/plain": [
       "array([b'1437', b'447', b'892', b'895', b'963', b'973', b'989', b'1011',\n",
       "       b'1110', b'1164', b'1168', b'1183', b'1272', b'1275', b'1285',\n",
       "       b'1292', b'1312', b'1768', b'1770', b'1879', b'1888', b'1895',\n",
       "       b'1983', b'2034', b'2043', b'2047', b'2075', b'2078', b'2159',\n",
       "       b'2193', b'2260', b'2280', b'2288', b'474', b'567', b'684', b'793',\n",
       "       b'794', b'992', b'1005', b'1020', b'1033', b'1052', b'1073',\n",
       "       b'1088', b'1090', b'1092', b'1096', b'1105', b'1112', b'1118',\n",
       "       b'1126', b'1162', b'1170', b'1219', b'1232', b'1264', b'1325',\n",
       "       b'1328', b'1887', b'1980', b'2029', b'2038', b'2059', b'2084',\n",
       "       b'2086', b'2095', b'2134', b'2135', b'2287', b'475', b'559', b'653',\n",
       "       b'916', b'93', b'410', b'504', b'1750', b'2377', b'1557', b'2199',\n",
       "       b'2458', b'695', b'1303', b'2327', b'653', b'2320', b'2497', b'474',\n",
       "       b'567', b'684', b'793', b'794', b'992', b'1005', b'1020', b'1033',\n",
       "       b'1052', b'1073', b'1088'], \n",
       "      dtype='|S450')"
      ]
     },
     "execution_count": 6,
     "metadata": {},
     "output_type": "execute_result"
    }
   ],
   "source": [
    "data[:100]"
   ]
  },
  {
   "cell_type": "code",
   "execution_count": null,
   "metadata": {
    "collapsed": true
   },
   "outputs": [],
   "source": []
  }
 ],
 "metadata": {
  "anaconda-cloud": {},
  "kernelspec": {
   "display_name": "Python [conda root]",
   "language": "python",
   "name": "conda-root-py"
  },
  "language_info": {
   "codemirror_mode": {
    "name": "ipython",
    "version": 3
   },
   "file_extension": ".py",
   "mimetype": "text/x-python",
   "name": "python",
   "nbconvert_exporter": "python",
   "pygments_lexer": "ipython3",
   "version": "3.5.2"
  },
  "toc": {
   "colors": {
    "hover_highlight": "#DAA520",
    "running_highlight": "#FF0000",
    "selected_highlight": "#FFD700"
   },
   "moveMenuLeft": true,
   "nav_menu": {
    "height": "12px",
    "width": "252px"
   },
   "navigate_menu": true,
   "number_sections": true,
   "sideBar": true,
   "threshold": 4,
   "toc_cell": false,
   "toc_section_display": "block",
   "toc_window_display": false
  }
 },
 "nbformat": 4,
 "nbformat_minor": 1
}
