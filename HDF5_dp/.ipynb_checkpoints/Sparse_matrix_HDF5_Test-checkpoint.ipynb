{
 "cells": [
  {
   "cell_type": "code",
   "execution_count": 7,
   "metadata": {
    "collapsed": true
   },
   "outputs": [],
   "source": [
    "from scipy.sparse import csr_matrix,rand\n",
    "import tables as tb\n",
    "import numpy as np\n",
    "import pandas as pd\n",
    "from numpy import array"
   ]
  },
  {
   "cell_type": "code",
   "execution_count": 2,
   "metadata": {
    "collapsed": true
   },
   "outputs": [],
   "source": [
    "file=pd.read_table(\"/Users/jma7/Development/hail/test/genotype.tsv\",index_col=0)"
   ]
  },
  {
   "cell_type": "code",
   "execution_count": 4,
   "metadata": {
    "collapsed": false
   },
   "outputs": [],
   "source": [
    "mat=csr_matrix(file.values)"
   ]
  },
  {
   "cell_type": "code",
   "execution_count": 5,
   "metadata": {
    "collapsed": true
   },
   "outputs": [],
   "source": [
    "def store_sparse_mat(m, name, store='store.h5'):\n",
    "    msg = \"This code only works for csr matrices\"\n",
    "    assert(m.__class__ == csr_matrix), msg\n",
    "    with tb.open_file(store,'a') as f:\n",
    "        for par in ('data', 'indices', 'indptr', 'shape'):\n",
    "            full_name = '%s_%s' % (name, par)\n",
    "            try:\n",
    "                n = getattr(f.root, full_name)\n",
    "                n._f_remove()\n",
    "            except AttributeError:\n",
    "                pass\n",
    "\n",
    "            arr = array(getattr(m, par))\n",
    "            atom = tb.Atom.from_dtype(arr.dtype)\n",
    "            ds = f.create_carray(f.root, full_name, atom, arr.shape)\n",
    "            ds[:] = arr\n",
    "\n",
    "def load_sparse_mat(name, store='store.h5'):\n",
    "    with tb.open_file(store) as f:\n",
    "        pars = []\n",
    "        for par in ('data', 'indices', 'indptr', 'shape'):\n",
    "            pars.append(getattr(f.root, '%s_%s' % (name, par)).read())\n",
    "    m = csr_matrix(tuple(pars[:3]), shape=pars[3])\n",
    "    return m"
   ]
  },
  {
   "cell_type": "code",
   "execution_count": 8,
   "metadata": {
    "collapsed": false
   },
   "outputs": [
    {
     "name": "stderr",
     "output_type": "stream",
     "text": [
      "//anaconda/lib/python3.5/site-packages/ipykernel/__main__.py:4: DeprecationWarning: openFile() is pending deprecation, use open_file() instead. You may use the pt2to3 tool to update your source code.\n",
      "//anaconda/lib/python3.5/site-packages/ipykernel/__main__.py:15: DeprecationWarning: createCArray() is pending deprecation, use create_carray() instead. You may use the pt2to3 tool to update your source code.\n"
     ]
    }
   ],
   "source": [
    "store_sparse_mat(mat,\"table\")"
   ]
  },
  {
   "cell_type": "code",
   "execution_count": null,
   "metadata": {
    "collapsed": true
   },
   "outputs": [],
   "source": []
  }
 ],
 "metadata": {
  "kernelspec": {
   "display_name": "Python [conda root]",
   "language": "python",
   "name": "conda-root-py"
  },
  "language_info": {
   "codemirror_mode": {
    "name": "ipython",
    "version": 3
   },
   "file_extension": ".py",
   "mimetype": "text/x-python",
   "name": "python",
   "nbconvert_exporter": "python",
   "pygments_lexer": "ipython3",
   "version": "3.5.2"
  },
  "toc": {
   "colors": {
    "hover_highlight": "#DAA520",
    "running_highlight": "#FF0000",
    "selected_highlight": "#FFD700"
   },
   "moveMenuLeft": true,
   "nav_menu": {
    "height": "12px",
    "width": "252px"
   },
   "navigate_menu": true,
   "number_sections": true,
   "sideBar": true,
   "threshold": 4,
   "toc_cell": false,
   "toc_section_display": "block",
   "toc_window_display": false
  }
 },
 "nbformat": 4,
 "nbformat_minor": 1
}
