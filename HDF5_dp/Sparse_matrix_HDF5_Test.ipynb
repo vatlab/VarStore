{
 "cells": [
  {
   "cell_type": "code",
   "execution_count": 33,
   "metadata": {
    "collapsed": true
   },
   "outputs": [],
   "source": [
    "from scipy.sparse import csr_matrix,rand,coo_matrix\n",
    "import tables as tb\n",
    "import numpy as np\n",
    "import pandas as pd\n",
    "from numpy import array"
   ]
  },
  {
   "cell_type": "code",
   "execution_count": 2,
   "metadata": {
    "collapsed": true
   },
   "outputs": [],
   "source": [
    "file=pd.read_table(\"/Users/jma7/Development/hail/test/genotype.tsv\",index_col=0)"
   ]
  },
  {
   "cell_type": "code",
   "execution_count": 24,
   "metadata": {
    "collapsed": true
   },
   "outputs": [],
   "source": [
    "sparsefile=file.to_sparse(fill_value=0)"
   ]
  },
  {
   "cell_type": "code",
   "execution_count": 34,
   "metadata": {
    "collapsed": false
   },
   "outputs": [],
   "source": [
    "def sparse_df_to_array(df):\n",
    "    num_rows = df.shape[0]   \n",
    "\n",
    "    data = []\n",
    "    row = []\n",
    "    col = []\n",
    "\n",
    "    for i, col_name in enumerate(df.columns):\n",
    "        if isinstance(df[col_name], pd.SparseSeries):\n",
    "            column_index = df[col_name].sp_index\n",
    "            if isinstance(column_index, pd._sparse.BlockIndex):\n",
    "                column_index = column_index.to_int_index()\n",
    "\n",
    "            ix = column_index.indices\n",
    "            data.append(df[col_name].sp_values)\n",
    "            row.append(ix)\n",
    "            col.append(len(df[col_name].sp_values) * [i])\n",
    "        else:\n",
    "            data.append(df[col_name].values)\n",
    "            row.append(np.array(range(0, num_rows)))\n",
    "            col.append(np.array(num_rows * [i]))\n",
    "\n",
    "    data_f = np.concatenate(data)\n",
    "    row_f = np.concatenate(row)\n",
    "    col_f = np.concatenate(col)\n",
    "\n",
    "    arr = coo_matrix((data_f, (row_f, col_f)), df.shape, dtype=np.float64)\n",
    "    return arr.tocsr()"
   ]
  },
  {
   "cell_type": "code",
   "execution_count": 4,
   "metadata": {
    "collapsed": false
   },
   "outputs": [],
   "source": [
    "mat=csr_matrix(file.values)"
   ]
  },
  {
   "cell_type": "code",
   "execution_count": 46,
   "metadata": {
    "collapsed": true
   },
   "outputs": [],
   "source": [
    "def store_sparse_mat(m, name, store='store.h5'):\n",
    "    msg = \"This code only works for csr matrices\"\n",
    "    assert(m.__class__ == csr_matrix), msg\n",
    "    with tb.open_file(store,'a') as f:\n",
    "        for par in ('data', 'indices', 'indptr', 'shape'):\n",
    "            full_name = '%s_%s' % (name, par)\n",
    "            try:\n",
    "                n = getattr(f.root, full_name)\n",
    "                n._f_remove()\n",
    "            except AttributeError:\n",
    "                pass\n",
    "\n",
    "            arr = array(getattr(m, par))\n",
    "            atom = tb.Atom.from_dtype(arr.dtype)\n",
    "            ds = f.create_carray(f.root, full_name, atom, arr.shape)\n",
    "            print(f)\n",
    "            ds[:] = arr\n",
    "\n",
    "def load_sparse_mat(name, store='store.h5'):\n",
    "    with tb.open_file(store) as f:\n",
    "        pars = []\n",
    "        for par in ('data', 'indices', 'indptr', 'shape'):\n",
    "            pars.append(getattr(f.root, '%s_%s' % (name, par)).read())\n",
    "    m = csr_matrix(tuple(pars[:3]), shape=pars[3])\n",
    "    return m"
   ]
  },
  {
   "cell_type": "code",
   "execution_count": 47,
   "metadata": {
    "collapsed": false
   },
   "outputs": [
    {
     "name": "stdout",
     "output_type": "stream",
     "text": [
      "store.h5 (File) ''\n",
      "Last modif.: 'Fri Mar 24 15:13:44 2017'\n",
      "Object Tree: \n",
      "/ (RootGroup) ''\n",
      "/table_data (CArray(776397,)) ''\n",
      "/table_indices (CArray(776397,)) ''\n",
      "/table_indptr (CArray(10037,)) ''\n",
      "/table_shape (CArray(2,)) ''\n",
      "\n",
      "store.h5 (File) ''\n",
      "Last modif.: 'Fri Mar 24 16:20:15 2017'\n",
      "Object Tree: \n",
      "/ (RootGroup) ''\n",
      "/table_data (CArray(776397,)) ''\n",
      "/table_indices (CArray(776397,)) ''\n",
      "/table_indptr (CArray(10037,)) ''\n",
      "/table_shape (CArray(2,)) ''\n",
      "\n",
      "store.h5 (File) ''\n",
      "Last modif.: 'Fri Mar 24 16:20:15 2017'\n",
      "Object Tree: \n",
      "/ (RootGroup) ''\n",
      "/table_data (CArray(776397,)) ''\n",
      "/table_indices (CArray(776397,)) ''\n",
      "/table_indptr (CArray(10037,)) ''\n",
      "/table_shape (CArray(2,)) ''\n",
      "\n",
      "store.h5 (File) ''\n",
      "Last modif.: 'Fri Mar 24 16:20:15 2017'\n",
      "Object Tree: \n",
      "/ (RootGroup) ''\n",
      "/table_data (CArray(776397,)) ''\n",
      "/table_indices (CArray(776397,)) ''\n",
      "/table_indptr (CArray(10037,)) ''\n",
      "/table_shape (CArray(2,)) ''\n",
      "\n"
     ]
    }
   ],
   "source": [
    "store_sparse_mat(mat,\"table\")"
   ]
  },
  {
   "cell_type": "code",
   "execution_count": 37,
   "metadata": {
    "collapsed": true
   },
   "outputs": [],
   "source": [
    "matcheck=load_sparse_mat(\"table\")"
   ]
  },
  {
   "cell_type": "code",
   "execution_count": 38,
   "metadata": {
    "collapsed": true
   },
   "outputs": [],
   "source": [
    "filecheck=matcheck.toarray()"
   ]
  },
  {
   "cell_type": "code",
   "execution_count": 35,
   "metadata": {
    "collapsed": false
   },
   "outputs": [],
   "source": [
    "sparasecheck=sparse_df_to_array(sparsefile)"
   ]
  },
  {
   "cell_type": "code",
   "execution_count": 36,
   "metadata": {
    "collapsed": false
   },
   "outputs": [],
   "source": [
    "store_sparse_mat(sparasecheck,\"table\")"
   ]
  },
  {
   "cell_type": "code",
   "execution_count": 42,
   "metadata": {
    "collapsed": false
   },
   "outputs": [
    {
     "data": {
      "text/plain": [
       "numpy.ndarray"
      ]
     },
     "execution_count": 42,
     "metadata": {},
     "output_type": "execute_result"
    }
   ],
   "source": [
    "type(filecheck)"
   ]
  },
  {
   "cell_type": "code",
   "execution_count": 41,
   "metadata": {
    "collapsed": false
   },
   "outputs": [
    {
     "data": {
      "text/plain": [
       "pandas.core.frame.DataFrame"
      ]
     },
     "execution_count": 41,
     "metadata": {},
     "output_type": "execute_result"
    }
   ],
   "source": [
    "type(file)"
   ]
  },
  {
   "cell_type": "code",
   "execution_count": 43,
   "metadata": {
    "collapsed": true
   },
   "outputs": [],
   "source": [
    "f=pd.HDFStore(\"store.h5\")"
   ]
  },
  {
   "cell_type": "code",
   "execution_count": 45,
   "metadata": {
    "collapsed": false
   },
   "outputs": [
    {
     "data": {
      "text/plain": [
       "<class 'pandas.io.pytables.HDFStore'>\n",
       "File path: store.h5\n",
       "Empty"
      ]
     },
     "execution_count": 45,
     "metadata": {},
     "output_type": "execute_result"
    }
   ],
   "source": [
    "f"
   ]
  },
  {
   "cell_type": "code",
   "execution_count": null,
   "metadata": {
    "collapsed": true
   },
   "outputs": [],
   "source": [
    "f"
   ]
  }
 ],
 "metadata": {
  "kernelspec": {
   "display_name": "Python [conda root]",
   "language": "python",
   "name": "conda-root-py"
  },
  "language_info": {
   "codemirror_mode": {
    "name": "ipython",
    "version": 3
   },
   "file_extension": ".py",
   "mimetype": "text/x-python",
   "name": "python",
   "nbconvert_exporter": "python",
   "pygments_lexer": "ipython3",
   "version": "3.5.2"
  },
  "toc": {
   "colors": {
    "hover_highlight": "#DAA520",
    "running_highlight": "#FF0000",
    "selected_highlight": "#FFD700"
   },
   "moveMenuLeft": true,
   "nav_menu": {
    "height": "12px",
    "width": "252px"
   },
   "navigate_menu": true,
   "number_sections": true,
   "sideBar": true,
   "threshold": 4,
   "toc_cell": false,
   "toc_section_display": "block",
   "toc_window_display": false
  }
 },
 "nbformat": 4,
 "nbformat_minor": 1
}
